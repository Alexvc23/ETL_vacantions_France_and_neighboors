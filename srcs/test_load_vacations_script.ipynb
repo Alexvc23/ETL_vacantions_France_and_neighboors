{
 "cells": [
  {
   "cell_type": "markdown",
   "id": "a68e15e0",
   "metadata": {},
   "source": [
    "# Test `load_vacations.py`\n",
    "A quick interactive notebook to load French school‑vacation dates into **Khubeo_IA.t_vacances** and verify the result.\n",
    "\n",
    "> **Tip :** run the notebook inside the same virtual‑env / container where you keep your ETL code so that the `load_vacations.py` module and its dependencies are available.\n"
   ]
  },
  {
   "cell_type": "markdown",
   "id": "aeb19f32",
   "metadata": {},
   "source": [
    "## 0 — Install / import dependencies"
   ]
  },
  {
   "cell_type": "code",
   "execution_count": null,
   "id": "20566a14",
   "metadata": {},
   "outputs": [],
   "source": [
    "# Uncomment if you need to install in a vanilla environment\n",
    "# !pip install --quiet sqlalchemy pandas psycopg2-binary tqdm\n",
    "\n",
    "import os, subprocess, json, pandas as pd\n",
    "from sqlalchemy import create_engine, text\n"
   ]
  },
  {
   "cell_type": "markdown",
   "id": "3ba5d8ba",
   "metadata": {},
   "source": [
    "## 1 — Set database connection parameters\n",
    "Replace by your own if they differ; environment variables are easiest."
   ]
  },
  {
   "cell_type": "code",
   "execution_count": null,
   "id": "efea084a",
   "metadata": {},
   "outputs": [],
   "source": [
    "# Edit as needed – or `export DB_*` in the shell before launching Jupyter\n",
    "os.environ.setdefault(\"DB_HOST\", \"37.61.241.45\")\n",
    "os.environ.setdefault(\"DB_PORT\", \"5432\")\n",
    "os.environ.setdefault(\"DB_NAME\", \"Khubeo_IA\")\n",
    "os.environ.setdefault(\"DB_USER\", \"postgres\")\n",
    "os.environ.setdefault(\"DB_PASS\", \"Xjp2yCm$G36WR4E\")  # ⚠️ PRIVATE – consider using a secret manager"
   ]
  },
  {
   "cell_type": "markdown",
   "id": "1750af1c",
   "metadata": {},
   "source": [
    "## 2 — Make sure `load_vacations.py` is available\n",
    "If you cloned it with your repo you can skip this cell. Otherwise we write the latest version from the canvas."
   ]
  },
  {
   "cell_type": "code",
   "execution_count": null,
   "id": "bd616c3b",
   "metadata": {},
   "outputs": [],
   "source": [
    "# If load_vacations.py already exists in the cwd, skip.\n",
    "# Otherwise paste the contents or copy from your repository.\n",
    "import pathlib, textwrap, datetime, json\n",
    "if not pathlib.Path('load_vacations.py').exists():\n",
    "    raise FileNotFoundError(\"Place load_vacations.py in the working directory before continuing.\")"
   ]
  },
  {
   "cell_type": "markdown",
   "id": "a2d29fd8",
   "metadata": {},
   "source": [
    "## 3 — Run the loader"
   ]
  },
  {
   "cell_type": "code",
   "execution_count": null,
   "id": "c39e832f",
   "metadata": {},
   "outputs": [],
   "source": [
    "# Example: import only the 2025 calendar year\n",
    "subprocess.run([\"python\", \"load_vacations.py\", \"--year\", \"2025\"], check=True)\n"
   ]
  },
  {
   "cell_type": "markdown",
   "id": "57ea4fb2",
   "metadata": {},
   "source": [
    "## 4 — Verify rows inserted"
   ]
  },
  {
   "cell_type": "code",
   "execution_count": null,
   "id": "c0f6168e",
   "metadata": {},
   "outputs": [],
   "source": [
    "engine = create_engine(\n",
    "    f\"postgresql://{os.environ['DB_USER']}:{os.environ['DB_PASS']}@{os.environ['DB_HOST']}:{os.environ['DB_PORT']}/{os.environ['DB_NAME']}\"\n",
    ")\n",
    "with engine.begin() as conn:\n",
    "    total = conn.scalar(text(\"SELECT COUNT(*) FROM t_vacances\"))\n",
    "    print(f\"t_vacances now has {total:,} rows\")\n",
    "    display(pd.read_sql(\"\"\"\n",
    "        SELECT *\n",
    "        FROM t_vacances\n",
    "        ORDER BY vc_date DESC\n",
    "        LIMIT 10\n",
    "    \"\"\", conn))"
   ]
  }
 ],
 "metadata": {
  "kernelspec": {
   "display_name": "Python 3 (ipykernel)",
   "language": "python",
   "name": "python3"
  }
 },
 "nbformat": 4,
 "nbformat_minor": 5
}
