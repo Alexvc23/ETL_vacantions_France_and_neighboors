{
 "cells": [
  {
   "cell_type": "markdown",
   "id": "b58ee426",
   "metadata": {},
   "source": [
    "# Set up to module to be read for external host instances "
   ]
  },
  {
   "cell_type": "markdown",
   "id": "0bd9cc72",
   "metadata": {},
   "source": [
    "\n",
    "The `pip show vacances-etl` command in cell 2 checks if the required package is installed in the current Python environment. This verification ensures all dependencies are available before proceeding with the ETL workflow.\n",
    "\n",
    "The package contains custom ETL functions that handle data extraction from CSV files, transformation according to business rules, and loading into our PostgreSQL database."
   ]
  },
  {
   "cell_type": "code",
   "execution_count": 1,
   "id": "cfdaa687",
   "metadata": {},
   "outputs": [
    {
     "name": "stdout",
     "output_type": "stream",
     "text": [
      "Name: vacances-etl\n",
      "Version: 0.1.0\n",
      "Summary: ETL pipeline for French and neighbouring school holidays\n",
      "Home-page: \n",
      "Author: \n",
      "Author-email: Your Name <you@example.com>\n",
      "License: \n",
      "Location: /home/cliuser/.local/lib/python3.10/site-packages\n",
      "Editable project location: /home/cliuser/downloads/exo-partners/ETL_vacantions_France_and_neighboors/srcs\n",
      "Requires: pandas, psycopg2-binary, sqlalchemy\n",
      "Required-by: \n"
     ]
    }
   ],
   "source": [
    "# Check if the vacances-etl package is installed\n",
    "!{sys.executable} -m pip show vacances-etl\n"
   ]
  },
  {
   "cell_type": "markdown",
   "id": "df28301f",
   "metadata": {},
   "source": [
    "## Environment Setup and Package Verification\n",
    "\n",
    "1. **Environment Setup**: Checks for the required `vacances-etl` package installation, configures Python paths and database connection parameters.\n",
    "\n",
    "The Python path configuration ensures that custom packages are properly located and imported. Database configuration uses environment variables to maintain security while providing connection information to the ETL processes."
   ]
  },
  {
   "cell_type": "code",
   "execution_count": 2,
   "id": "d4d6ec2f",
   "metadata": {},
   "outputs": [
    {
     "name": "stdout",
     "output_type": "stream",
     "text": [
      "User site-packages directory: /home/cliuser/.local/lib/python3.10/site-packages\n",
      "❌ vacances_etl package is not installed!\n",
      "Python version: 3.10.12 (main, Feb  4 2025, 14:57:36) [GCC 11.4.0]\n",
      "sys.path contains 9 entries\n"
     ]
    }
   ],
   "source": [
    "# ➊ Ensure user-site is on sys.path and verify package installation\n",
    "# sys.path is a list of directories that Python searches for modules\n",
    "# This script checks if the user site-packages directory is in sys.path\n",
    "# and adds it if not, then checks for the installation of the vacances-etl package.\n",
    "import site, sys\n",
    "\n",
    "# Get user site-packages directory\n",
    "u_site = site.getusersitepackages()\n",
    "print(f\"User site-packages directory: {u_site}\")\n",
    "\n",
    "# Add to path if not already there\n",
    "if u_site not in sys.path:\n",
    "    sys.path.insert(0, u_site)\n",
    "    print(f\"Added {u_site} to sys.path\")\n",
    "\n",
    "# Check if vacances-etl package is installed\n",
    "try:\n",
    "    import vacances_etl\n",
    "    print(f\"✅ vacances_etl package is installed at: {vacances_etl.__file__}\")\n",
    "except ImportError:\n",
    "    print(\"❌ vacances_etl package is not installed!\")\n",
    "    \n",
    "# Display Python version and environment info\n",
    "print(f\"Python version: {sys.version}\")\n",
    "print(f\"sys.path contains {len(sys.path)} entries\")"
   ]
  },
  {
   "cell_type": "code",
   "execution_count": 3,
   "id": "c02e7250",
   "metadata": {},
   "outputs": [
    {
     "name": "stdout",
     "output_type": "stream",
     "text": [
      "True\n"
     ]
    }
   ],
   "source": [
    "import pathlib\n",
    "# 2.  Is that path on sys.path?\n",
    "wheel_path = pathlib.Path('/home/cliuser/.local/lib/python3.10/site-packages')\n",
    "print(wheel_path in map(pathlib.Path, sys.path))  # must be True"
   ]
  },
  {
   "cell_type": "code",
   "execution_count": 4,
   "id": "94bd9a64",
   "metadata": {},
   "outputs": [],
   "source": [
    "import os\n",
    "import sys\n",
    "# make sure your module sees these\n",
    "os.environ['DB_HOST']     = 'postgres'     # e.g. 'db', '192.168.99.100', or your cloud endpoint\n",
    "os.environ['DB_PORT']     = '5432'                    # change if your Postgres listens elsewhere\n",
    "os.environ['POSTGRES_USER']     = 'jvalenci'\n",
    "os.environ['POSTGRES_PASSWORD'] = 'mysecretpassword'\n",
    "os.environ['POSTGRES_DB']       = 'piscineds'\n",
    "\n",
    "sys.path.append(os.getcwd())\n",
    "\n",
    "\n",
    "# now reload so that get_engine picks up the new env vars\n",
    "from t_vacances_etl import * "
   ]
  },
  {
   "cell_type": "markdown",
   "id": "7e00d59f",
   "metadata": {},
   "source": [
    "### 2. Verify DB connection"
   ]
  },
  {
   "cell_type": "code",
   "execution_count": 5,
   "id": "6da8be88",
   "metadata": {},
   "outputs": [
    {
     "name": "stdout",
     "output_type": "stream",
     "text": [
      "✅ Connected: 1\n"
     ]
    }
   ],
   "source": [
    "from sqlalchemy import text\n",
    "\n",
    "# sanity‐check\n",
    "engine = get_engine()\n",
    "with engine.connect() as conn:\n",
    "    print(\"✅ Connected:\", conn.execute(text(\"SELECT 1\")).scalar())"
   ]
  },
  {
   "cell_type": "markdown",
   "id": "aeb4d274",
   "metadata": {},
   "source": [
    "### 3. Run the ETL pipeline"
   ]
  },
  {
   "cell_type": "markdown",
   "id": "c118da6f",
   "metadata": {},
   "source": [
    "#### Checks in which folder currently we are"
   ]
  },
  {
   "cell_type": "code",
   "execution_count": 6,
   "id": "7dcba9ff",
   "metadata": {},
   "outputs": [
    {
     "name": "stdout",
     "output_type": "stream",
     "text": [
      "cwd = /home/cliuser\n"
     ]
    }
   ],
   "source": [
    "# os module that is used to get the current working directory\n",
    "import os\n",
    "print(\"cwd =\", os.getcwd())\n"
   ]
  },
  {
   "cell_type": "code",
   "execution_count": 7,
   "id": "2aae2fce",
   "metadata": {},
   "outputs": [],
   "source": [
    "# os.chdir () # change the current working directory to the specified path\n",
    "os.chdir(\"/home/cliuser/downloads/exo-partners/ETL_vacantions_France_and_neighboors/\")  "
   ]
  },
  {
   "cell_type": "code",
   "execution_count": 8,
   "id": "e90534e3",
   "metadata": {},
   "outputs": [
    {
     "name": "stdout",
     "output_type": "stream",
     "text": [
      "/home/cliuser/downloads/exo-partners/ETL_vacantions_France_and_neighboors/fr-en-calendrier-scolaire (1).csv exists: True\n"
     ]
    }
   ],
   "source": [
    "from pathlib import Path\n",
    "csv = Path(\"fr-en-calendrier-scolaire (1).csv\").resolve()\n",
    "print(csv, \"exists:\", csv.exists())\n"
   ]
  },
  {
   "cell_type": "code",
   "execution_count": 9,
   "id": "00bcd60c",
   "metadata": {},
   "outputs": [
    {
     "name": "stdout",
     "output_type": "stream",
     "text": [
      "✅ ETL complete – rows: 2396\n"
     ]
    }
   ],
   "source": [
    "run_etl([\n",
    "    \"fr-en-calendrier-scolaire (1).csv\",\n",
    "    \"fr-en-calendrier-scolaire-remaining.csv\"\n",
    "])"
   ]
  },
  {
   "cell_type": "markdown",
   "id": "b9681ed5",
   "metadata": {},
   "source": [
    "### 4. Validate output table"
   ]
  },
  {
   "cell_type": "code",
   "execution_count": 10,
   "id": "78a7ef59",
   "metadata": {},
   "outputs": [
    {
     "data": {
      "text/html": [
       "<div>\n",
       "<style scoped>\n",
       "    .dataframe tbody tr th:only-of-type {\n",
       "        vertical-align: middle;\n",
       "    }\n",
       "\n",
       "    .dataframe tbody tr th {\n",
       "        vertical-align: top;\n",
       "    }\n",
       "\n",
       "    .dataframe thead th {\n",
       "        text-align: right;\n",
       "    }\n",
       "</style>\n",
       "<table border=\"1\" class=\"dataframe\">\n",
       "  <thead>\n",
       "    <tr style=\"text-align: right;\">\n",
       "      <th></th>\n",
       "      <th>date</th>\n",
       "      <th>all</th>\n",
       "      <th>bel</th>\n",
       "      <th>esp</th>\n",
       "      <th>fr_corse</th>\n",
       "      <th>fr_zone_a</th>\n",
       "      <th>fr_zone_b</th>\n",
       "      <th>fr_zone_c</th>\n",
       "      <th>ita</th>\n",
       "      <th>lux</th>\n",
       "      <th>sui</th>\n",
       "    </tr>\n",
       "  </thead>\n",
       "  <tbody>\n",
       "    <tr>\n",
       "      <th>0</th>\n",
       "      <td>2009-10-25</td>\n",
       "      <td>0</td>\n",
       "      <td>0</td>\n",
       "      <td>0</td>\n",
       "      <td>1</td>\n",
       "      <td>0</td>\n",
       "      <td>0</td>\n",
       "      <td>0</td>\n",
       "      <td>0</td>\n",
       "      <td>0</td>\n",
       "      <td>0</td>\n",
       "    </tr>\n",
       "    <tr>\n",
       "      <th>1</th>\n",
       "      <td>2009-10-26</td>\n",
       "      <td>0</td>\n",
       "      <td>0</td>\n",
       "      <td>0</td>\n",
       "      <td>1</td>\n",
       "      <td>0</td>\n",
       "      <td>0</td>\n",
       "      <td>0</td>\n",
       "      <td>0</td>\n",
       "      <td>0</td>\n",
       "      <td>0</td>\n",
       "    </tr>\n",
       "    <tr>\n",
       "      <th>2</th>\n",
       "      <td>2009-10-27</td>\n",
       "      <td>0</td>\n",
       "      <td>0</td>\n",
       "      <td>0</td>\n",
       "      <td>1</td>\n",
       "      <td>0</td>\n",
       "      <td>0</td>\n",
       "      <td>0</td>\n",
       "      <td>0</td>\n",
       "      <td>0</td>\n",
       "      <td>0</td>\n",
       "    </tr>\n",
       "    <tr>\n",
       "      <th>3</th>\n",
       "      <td>2009-10-28</td>\n",
       "      <td>0</td>\n",
       "      <td>0</td>\n",
       "      <td>0</td>\n",
       "      <td>1</td>\n",
       "      <td>0</td>\n",
       "      <td>0</td>\n",
       "      <td>0</td>\n",
       "      <td>0</td>\n",
       "      <td>0</td>\n",
       "      <td>0</td>\n",
       "    </tr>\n",
       "    <tr>\n",
       "      <th>4</th>\n",
       "      <td>2009-10-29</td>\n",
       "      <td>0</td>\n",
       "      <td>0</td>\n",
       "      <td>0</td>\n",
       "      <td>1</td>\n",
       "      <td>0</td>\n",
       "      <td>0</td>\n",
       "      <td>0</td>\n",
       "      <td>0</td>\n",
       "      <td>0</td>\n",
       "      <td>0</td>\n",
       "    </tr>\n",
       "    <tr>\n",
       "      <th>...</th>\n",
       "      <td>...</td>\n",
       "      <td>...</td>\n",
       "      <td>...</td>\n",
       "      <td>...</td>\n",
       "      <td>...</td>\n",
       "      <td>...</td>\n",
       "      <td>...</td>\n",
       "      <td>...</td>\n",
       "      <td>...</td>\n",
       "      <td>...</td>\n",
       "      <td>...</td>\n",
       "    </tr>\n",
       "    <tr>\n",
       "      <th>2391</th>\n",
       "      <td>2026-09-08</td>\n",
       "      <td>0</td>\n",
       "      <td>0</td>\n",
       "      <td>0</td>\n",
       "      <td>0</td>\n",
       "      <td>0</td>\n",
       "      <td>0</td>\n",
       "      <td>0</td>\n",
       "      <td>0</td>\n",
       "      <td>1</td>\n",
       "      <td>0</td>\n",
       "    </tr>\n",
       "    <tr>\n",
       "      <th>2392</th>\n",
       "      <td>2026-09-09</td>\n",
       "      <td>0</td>\n",
       "      <td>0</td>\n",
       "      <td>0</td>\n",
       "      <td>0</td>\n",
       "      <td>0</td>\n",
       "      <td>0</td>\n",
       "      <td>0</td>\n",
       "      <td>0</td>\n",
       "      <td>1</td>\n",
       "      <td>0</td>\n",
       "    </tr>\n",
       "    <tr>\n",
       "      <th>2393</th>\n",
       "      <td>2026-09-10</td>\n",
       "      <td>0</td>\n",
       "      <td>0</td>\n",
       "      <td>0</td>\n",
       "      <td>0</td>\n",
       "      <td>0</td>\n",
       "      <td>0</td>\n",
       "      <td>0</td>\n",
       "      <td>0</td>\n",
       "      <td>1</td>\n",
       "      <td>0</td>\n",
       "    </tr>\n",
       "    <tr>\n",
       "      <th>2394</th>\n",
       "      <td>2026-09-11</td>\n",
       "      <td>0</td>\n",
       "      <td>0</td>\n",
       "      <td>0</td>\n",
       "      <td>0</td>\n",
       "      <td>0</td>\n",
       "      <td>0</td>\n",
       "      <td>0</td>\n",
       "      <td>0</td>\n",
       "      <td>1</td>\n",
       "      <td>0</td>\n",
       "    </tr>\n",
       "    <tr>\n",
       "      <th>2395</th>\n",
       "      <td>2026-09-12</td>\n",
       "      <td>0</td>\n",
       "      <td>0</td>\n",
       "      <td>0</td>\n",
       "      <td>0</td>\n",
       "      <td>0</td>\n",
       "      <td>0</td>\n",
       "      <td>0</td>\n",
       "      <td>0</td>\n",
       "      <td>1</td>\n",
       "      <td>0</td>\n",
       "    </tr>\n",
       "  </tbody>\n",
       "</table>\n",
       "<p>2396 rows × 11 columns</p>\n",
       "</div>"
      ],
      "text/plain": [
       "           date  all  bel  esp  fr_corse  fr_zone_a  fr_zone_b  fr_zone_c  \\\n",
       "0    2009-10-25    0    0    0         1          0          0          0   \n",
       "1    2009-10-26    0    0    0         1          0          0          0   \n",
       "2    2009-10-27    0    0    0         1          0          0          0   \n",
       "3    2009-10-28    0    0    0         1          0          0          0   \n",
       "4    2009-10-29    0    0    0         1          0          0          0   \n",
       "...         ...  ...  ...  ...       ...        ...        ...        ...   \n",
       "2391 2026-09-08    0    0    0         0          0          0          0   \n",
       "2392 2026-09-09    0    0    0         0          0          0          0   \n",
       "2393 2026-09-10    0    0    0         0          0          0          0   \n",
       "2394 2026-09-11    0    0    0         0          0          0          0   \n",
       "2395 2026-09-12    0    0    0         0          0          0          0   \n",
       "\n",
       "      ita  lux  sui  \n",
       "0       0    0    0  \n",
       "1       0    0    0  \n",
       "2       0    0    0  \n",
       "3       0    0    0  \n",
       "4       0    0    0  \n",
       "...   ...  ...  ...  \n",
       "2391    0    1    0  \n",
       "2392    0    1    0  \n",
       "2393    0    1    0  \n",
       "2394    0    1    0  \n",
       "2395    0    1    0  \n",
       "\n",
       "[2396 rows x 11 columns]"
      ]
     },
     "execution_count": 10,
     "metadata": {},
     "output_type": "execute_result"
    }
   ],
   "source": [
    "import pandas as pd\n",
    "\n",
    "df = pd.read_sql_table('t_vacances', engine)\n",
    "\n",
    "# # filter the dataframe for Luxembourg entries\n",
    "# df = df[df['Académies'] == 'Luxembourg']\n",
    "\n",
    "df"
   ]
  },
  {
   "cell_type": "markdown",
   "id": "bd4de707",
   "metadata": {},
   "source": [
    "### 5. Clean up (optional)"
   ]
  },
  {
   "cell_type": "code",
   "execution_count": 11,
   "id": "d2bdccc7",
   "metadata": {},
   "outputs": [
    {
     "name": "stdout",
     "output_type": "stream",
     "text": [
      "Staging table dropped.\n"
     ]
    }
   ],
   "source": [
    "from sqlalchemy import text\n",
    "\n",
    "# drop staging table if desired\n",
    "with engine.begin() as conn:\n",
    "    conn.execute(text('DROP TABLE IF EXISTS staging_vacances'))\n",
    "    print('Staging table dropped.')"
   ]
  }
 ],
 "metadata": {
  "kernelspec": {
   "display_name": "Python 3 (ipykernel)",
   "language": "python",
   "name": "python3"
  },
  "language_info": {
   "codemirror_mode": {
    "name": "ipython",
    "version": 3
   },
   "file_extension": ".py",
   "mimetype": "text/x-python",
   "name": "python",
   "nbconvert_exporter": "python",
   "pygments_lexer": "ipython3",
   "version": "3.10.12"
  }
 },
 "nbformat": 4,
 "nbformat_minor": 5
}
