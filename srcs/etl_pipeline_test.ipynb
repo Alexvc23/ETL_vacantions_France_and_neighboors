{
 "cells": [
  {
   "cell_type": "markdown",
   "id": "b58ee426",
   "metadata": {},
   "source": [
    "# Set up to module to be read for external host instances "
   ]
  },
  {
   "cell_type": "markdown",
   "id": "0bd9cc72",
   "metadata": {},
   "source": [
    "\n",
    "The `pip show vacances-etl` command in cell 2 checks if the required package is installed in the current Python environment. This verification ensures all dependencies are available before proceeding with the ETL workflow.\n",
    "\n",
    "The package contains custom ETL functions that handle data extraction from CSV files, transformation according to business rules, and loading into our PostgreSQL database."
   ]
  },
  {
   "cell_type": "code",
   "execution_count": 20,
   "id": "cfdaa687",
   "metadata": {},
   "outputs": [
    {
     "name": "stdout",
     "output_type": "stream",
     "text": [
      "Name: vacances-etl\n",
      "Version: 0.1.0\n",
      "Summary: ETL pipeline for French and neighbouring school holidays\n",
      "Home-page: \n",
      "Author: Your Name\n",
      "Author-email: you@example.com\n",
      "License: \n",
      "Location: /home/cliuser/.local/lib/python3.10/site-packages\n",
      "Requires: pandas, psycopg2-binary, sqlalchemy\n",
      "Required-by: \n"
     ]
    }
   ],
   "source": [
    "# Check if the vacances-etl package is installed\n",
    "!{sys.executable} -m pip show vacances-etl\n"
   ]
  },
  {
   "cell_type": "markdown",
   "id": "df28301f",
   "metadata": {},
   "source": [
    "## Environment Setup and Package Verification\n",
    "\n",
    "1. **Environment Setup**: Checks for the required `vacances-etl` package installation, configures Python paths and database connection parameters.\n",
    "\n",
    "The Python path configuration ensures that custom packages are properly located and imported. Database configuration uses environment variables to maintain security while providing connection information to the ETL processes."
   ]
  },
  {
   "cell_type": "code",
   "execution_count": 21,
   "id": "d4d6ec2f",
   "metadata": {},
   "outputs": [
    {
     "name": "stdout",
     "output_type": "stream",
     "text": [
      "User site-packages directory: /home/cliuser/.local/lib/python3.10/site-packages\n",
      "✅ vacances_etl package is installed at: /home/cliuser/downloads/programing/exo-partners/ETL_vacantions_France_and_neighboors/srcs/vacances_etl/__init__.py\n",
      "Python version: 3.10.12 (main, Feb  4 2025, 14:57:36) [GCC 11.4.0]\n",
      "sys.path contains 14 entries\n"
     ]
    }
   ],
   "source": [
    "# ➊ Ensure user-site is on sys.path and verify package installation\n",
    "# sys.path is a list of directories that Python searches for modules\n",
    "# This script checks if the user site-packages directory is in sys.path\n",
    "# and adds it if not, then checks for the installation of the vacances-etl package.\n",
    "import site, sys\n",
    "\n",
    "# Get user site-packages directory\n",
    "u_site = site.getusersitepackages()\n",
    "print(f\"User site-packages directory: {u_site}\")\n",
    "\n",
    "# Add to path if not already there\n",
    "if u_site not in sys.path:\n",
    "    sys.path.insert(0, u_site)\n",
    "    print(f\"Added {u_site} to sys.path\")\n",
    "\n",
    "# Check if vacances-etl package is installed\n",
    "try:\n",
    "    import vacances_etl\n",
    "    print(f\"✅ vacances_etl package is installed at: {vacances_etl.__file__}\")\n",
    "except ImportError:\n",
    "    print(\"❌ vacances_etl package is not installed!\")\n",
    "    \n",
    "# Display Python version and environment info\n",
    "print(f\"Python version: {sys.version}\")\n",
    "print(f\"sys.path contains {len(sys.path)} entries\")"
   ]
  },
  {
   "cell_type": "code",
   "execution_count": 22,
   "id": "c02e7250",
   "metadata": {},
   "outputs": [
    {
     "name": "stdout",
     "output_type": "stream",
     "text": [
      "True\n"
     ]
    }
   ],
   "source": [
    "import pathlib\n",
    "# 2.  Is that path on sys.path?\n",
    "wheel_path = pathlib.Path('/home/cliuser/.local/lib/python3.10/site-packages')\n",
    "print(wheel_path in map(pathlib.Path, sys.path))  # must be True"
   ]
  },
  {
   "cell_type": "code",
   "execution_count": 23,
   "id": "94bd9a64",
   "metadata": {},
   "outputs": [
    {
     "name": "stdout",
     "output_type": "stream",
     "text": [
      "sys.path contains 15 entries\n",
      "sys.path['/usr/lib/python310.zip', '/usr/lib/python3.10', '/usr/lib/python3.10/lib-dynload', '', '/home/cliuser/.local/lib/python3.10/site-packages', '/home/cliuser/downloads/programing/42/projects/ft_matrix', '/home/cliuser/downloads/programing/exo-partners/ETL_vacantions_France_and_neighboors/srcs', '/usr/local/lib/python3.10/dist-packages', '/usr/lib/python3/dist-packages', '/home/cliuser/downloads/programing/exo-partners/ETL_vacantions_France_and_neighboors/srcs', '/home/cliuser/downloads/programing/exo-partners/ETL_vacantions_France_and_neighboors/srcs', '/home/cliuser/downloads/programing/exo-partners/ETL_vacantions_France_and_neighboors/srcs', '/home/cliuser/downloads/programing/exo-partners/ETL_vacantions_France_and_neighboors/srcs', '/home/cliuser/downloads/programing/exo-partners/ETL_vacantions_France_and_neighboors/srcs', '/home/cliuser/downloads/programing/exo-partners/ETL_vacantions_France_and_neighboors']\n",
      "/home/cliuser/downloads/programing/exo-partners/ETL_vacantions_France_and_neighboors\n"
     ]
    }
   ],
   "source": [
    "import os\n",
    "import sys\n",
    "# make sure your module sees these\n",
    "os.environ['DB_HOST']     = 'postgres'     # e.g. 'db', '192.168.99.100', or your cloud endpoint\n",
    "os.environ['DB_PORT']     = '5432'                    # change if your Postgres listens elsewhere\n",
    "os.environ['POSTGRES_USER']     = 'jvalenci'\n",
    "os.environ['POSTGRES_PASSWORD'] = 'mysecretpassword'\n",
    "os.environ['POSTGRES_DB']       = 'piscineds'\n",
    "\n",
    "sys.path.append(os.getcwd())\n",
    "print(f\"sys.path contains {len(sys.path)} entries\")\n",
    "print(f\"sys.path{sys.path}\")\n",
    "print(os.getcwd())\n"
   ]
  },
  {
   "cell_type": "markdown",
   "id": "0cf224d2",
   "metadata": {},
   "source": [
    "#### Checks in which folder currently we are"
   ]
  },
  {
   "cell_type": "code",
   "execution_count": 24,
   "id": "5baf20bd",
   "metadata": {},
   "outputs": [
    {
     "name": "stdout",
     "output_type": "stream",
     "text": [
      "cwd = /home/cliuser/downloads/programing/exo-partners/ETL_vacantions_France_and_neighboors\n"
     ]
    }
   ],
   "source": [
    "# os module that is used to get the current working directory\n",
    "import os\n",
    "print(\"cwd =\", os.getcwd())\n"
   ]
  },
  {
   "cell_type": "code",
   "execution_count": 25,
   "id": "c033eae0",
   "metadata": {},
   "outputs": [],
   "source": [
    "# os.chdir () # change the current working directory to the specified path\n",
    "os.chdir(\"/home/cliuser/downloads/programing/exo-partners/ETL_vacantions_France_and_neighboors\")  "
   ]
  },
  {
   "cell_type": "code",
   "execution_count": 26,
   "id": "d85d7b69",
   "metadata": {},
   "outputs": [
    {
     "name": "stdout",
     "output_type": "stream",
     "text": [
      "/home/cliuser/downloads/programing/exo-partners/ETL_vacantions_France_and_neighboors/fr-en-calendrier-scolaire (1).csv exists: True\n"
     ]
    }
   ],
   "source": [
    "from pathlib import Path\n",
    "csv = Path(\"fr-en-calendrier-scolaire (1).csv\").resolve()\n",
    "print(csv, \"exists:\", csv.exists())\n"
   ]
  },
  {
   "cell_type": "code",
   "execution_count": 27,
   "id": "9dabc6c0",
   "metadata": {},
   "outputs": [],
   "source": [
    "\n",
    "# now reload so that get_engine picks up the new env vars\n",
    "from vacances_etl import * "
   ]
  },
  {
   "cell_type": "markdown",
   "id": "7e00d59f",
   "metadata": {},
   "source": [
    "### 2. Verify DB connection"
   ]
  },
  {
   "cell_type": "code",
   "execution_count": 28,
   "id": "6da8be88",
   "metadata": {},
   "outputs": [
    {
     "name": "stdout",
     "output_type": "stream",
     "text": [
      "✅ Connected: 1\n"
     ]
    }
   ],
   "source": [
    "from sqlalchemy import text\n",
    "\n",
    "# sanity‐check\n",
    "engine = get_engine()\n",
    "with engine.connect() as conn:\n",
    "    print(\"✅ Connected:\", conn.execute(text(\"SELECT 1\")).scalar())"
   ]
  },
  {
   "cell_type": "markdown",
   "id": "aeb4d274",
   "metadata": {},
   "source": [
    "### 3. Run the ETL pipeline"
   ]
  },
  {
   "cell_type": "code",
   "execution_count": 29,
   "id": "00bcd60c",
   "metadata": {},
   "outputs": [
    {
     "name": "stdout",
     "output_type": "stream",
     "text": [
      "✅ ETL complete: 2396 rows in t_vacances.\n"
     ]
    }
   ],
   "source": [
    "run_etl([\n",
    "    \"fr-en-calendrier-scolaire (1).csv\",\n",
    "    \"fr-en-calendrier-scolaire-remaining.csv\"\n",
    "])"
   ]
  },
  {
   "cell_type": "markdown",
   "id": "b9681ed5",
   "metadata": {},
   "source": [
    "### 4. Validate output table"
   ]
  },
  {
   "cell_type": "code",
   "execution_count": 30,
   "id": "e5e9f61f",
   "metadata": {},
   "outputs": [],
   "source": [
    "\n",
    "import pandas as pd\n",
    "\n",
    "# Read the table into a DataFrame\n",
    "df = pd.read_sql_table('t_vacances', engine)"
   ]
  },
  {
   "cell_type": "code",
   "execution_count": 31,
   "id": "2f1a214f",
   "metadata": {},
   "outputs": [
    {
     "data": {
      "text/plain": [
       "Index(['date', 'fr_zone_a', 'fr_zone_b', 'fr_zone_c', 'fr_corse', 'all', 'bel',\n",
       "       'esp', 'ita', 'lux', 'sui', 'annee_scolaire'],\n",
       "      dtype='object')"
      ]
     },
     "execution_count": 31,
     "metadata": {},
     "output_type": "execute_result"
    }
   ],
   "source": [
    "df.columns\n",
    "# Display the first few rows of the DataFrame\n"
   ]
  },
  {
   "cell_type": "code",
   "execution_count": 32,
   "id": "c164a738",
   "metadata": {},
   "outputs": [
    {
     "data": {
      "text/html": [
       "<div>\n",
       "<style scoped>\n",
       "    .dataframe tbody tr th:only-of-type {\n",
       "        vertical-align: middle;\n",
       "    }\n",
       "\n",
       "    .dataframe tbody tr th {\n",
       "        vertical-align: top;\n",
       "    }\n",
       "\n",
       "    .dataframe thead th {\n",
       "        text-align: right;\n",
       "    }\n",
       "</style>\n",
       "<table border=\"1\" class=\"dataframe\">\n",
       "  <thead>\n",
       "    <tr style=\"text-align: right;\">\n",
       "      <th></th>\n",
       "      <th>date</th>\n",
       "      <th>fr_zone_a</th>\n",
       "      <th>fr_zone_b</th>\n",
       "      <th>fr_zone_c</th>\n",
       "      <th>fr_corse</th>\n",
       "      <th>all</th>\n",
       "      <th>bel</th>\n",
       "      <th>esp</th>\n",
       "      <th>ita</th>\n",
       "      <th>lux</th>\n",
       "      <th>sui</th>\n",
       "      <th>annee_scolaire</th>\n",
       "    </tr>\n",
       "  </thead>\n",
       "  <tbody>\n",
       "    <tr>\n",
       "      <th>0</th>\n",
       "      <td>2009-10-25</td>\n",
       "      <td>0</td>\n",
       "      <td>0</td>\n",
       "      <td>0</td>\n",
       "      <td>1</td>\n",
       "      <td>0</td>\n",
       "      <td>0</td>\n",
       "      <td>0</td>\n",
       "      <td>0</td>\n",
       "      <td>0</td>\n",
       "      <td>0</td>\n",
       "      <td>2009-2010</td>\n",
       "    </tr>\n",
       "    <tr>\n",
       "      <th>1</th>\n",
       "      <td>2009-10-26</td>\n",
       "      <td>0</td>\n",
       "      <td>0</td>\n",
       "      <td>0</td>\n",
       "      <td>1</td>\n",
       "      <td>0</td>\n",
       "      <td>0</td>\n",
       "      <td>0</td>\n",
       "      <td>0</td>\n",
       "      <td>0</td>\n",
       "      <td>0</td>\n",
       "      <td>2009-2010</td>\n",
       "    </tr>\n",
       "    <tr>\n",
       "      <th>2</th>\n",
       "      <td>2009-10-27</td>\n",
       "      <td>0</td>\n",
       "      <td>0</td>\n",
       "      <td>0</td>\n",
       "      <td>1</td>\n",
       "      <td>0</td>\n",
       "      <td>0</td>\n",
       "      <td>0</td>\n",
       "      <td>0</td>\n",
       "      <td>0</td>\n",
       "      <td>0</td>\n",
       "      <td>2009-2010</td>\n",
       "    </tr>\n",
       "    <tr>\n",
       "      <th>3</th>\n",
       "      <td>2009-10-28</td>\n",
       "      <td>0</td>\n",
       "      <td>0</td>\n",
       "      <td>0</td>\n",
       "      <td>1</td>\n",
       "      <td>0</td>\n",
       "      <td>0</td>\n",
       "      <td>0</td>\n",
       "      <td>0</td>\n",
       "      <td>0</td>\n",
       "      <td>0</td>\n",
       "      <td>2009-2010</td>\n",
       "    </tr>\n",
       "    <tr>\n",
       "      <th>4</th>\n",
       "      <td>2009-10-29</td>\n",
       "      <td>0</td>\n",
       "      <td>0</td>\n",
       "      <td>0</td>\n",
       "      <td>1</td>\n",
       "      <td>0</td>\n",
       "      <td>0</td>\n",
       "      <td>0</td>\n",
       "      <td>0</td>\n",
       "      <td>0</td>\n",
       "      <td>0</td>\n",
       "      <td>2009-2010</td>\n",
       "    </tr>\n",
       "  </tbody>\n",
       "</table>\n",
       "</div>"
      ],
      "text/plain": [
       "        date  fr_zone_a  fr_zone_b  fr_zone_c  fr_corse  all  bel  esp  ita  \\\n",
       "0 2009-10-25          0          0          0         1    0    0    0    0   \n",
       "1 2009-10-26          0          0          0         1    0    0    0    0   \n",
       "2 2009-10-27          0          0          0         1    0    0    0    0   \n",
       "3 2009-10-28          0          0          0         1    0    0    0    0   \n",
       "4 2009-10-29          0          0          0         1    0    0    0    0   \n",
       "\n",
       "   lux  sui annee_scolaire  \n",
       "0    0    0      2009-2010  \n",
       "1    0    0      2009-2010  \n",
       "2    0    0      2009-2010  \n",
       "3    0    0      2009-2010  \n",
       "4    0    0      2009-2010  "
      ]
     },
     "execution_count": 32,
     "metadata": {},
     "output_type": "execute_result"
    }
   ],
   "source": [
    "df.head()  # Display the first few rows of the DataFrame"
   ]
  },
  {
   "cell_type": "code",
   "execution_count": 33,
   "id": "50887420",
   "metadata": {},
   "outputs": [
    {
     "ename": "NameError",
     "evalue": "name 'DB_USER' is not defined",
     "output_type": "error",
     "traceback": [
      "\u001b[0;31m---------------------------------------------------------------------------\u001b[0m",
      "\u001b[0;31mNameError\u001b[0m                                 Traceback (most recent call last)",
      "Cell \u001b[0;32mIn[33], line 5\u001b[0m\n\u001b[1;32m      2\u001b[0m \u001b[38;5;28;01mfrom\u001b[39;00m\u001b[38;5;250m \u001b[39m\u001b[38;5;21;01msqlalchemy\u001b[39;00m\u001b[38;5;250m \u001b[39m\u001b[38;5;28;01mimport\u001b[39;00m create_engine, text\n\u001b[1;32m      4\u001b[0m \u001b[38;5;66;03m# 1. connect & load the final table\u001b[39;00m\n\u001b[0;32m----> 5\u001b[0m engine \u001b[38;5;241m=\u001b[39m create_engine(\u001b[38;5;124mf\u001b[39m\u001b[38;5;124m\"\u001b[39m\u001b[38;5;124mpostgresql://\u001b[39m\u001b[38;5;132;01m{\u001b[39;00m\u001b[43mDB_USER\u001b[49m\u001b[38;5;132;01m}\u001b[39;00m\u001b[38;5;124m:\u001b[39m\u001b[38;5;132;01m{\u001b[39;00mDB_PASS\u001b[38;5;132;01m}\u001b[39;00m\u001b[38;5;124m@\u001b[39m\u001b[38;5;132;01m{\u001b[39;00mDB_HOST\u001b[38;5;132;01m}\u001b[39;00m\u001b[38;5;124m:\u001b[39m\u001b[38;5;132;01m{\u001b[39;00mDB_PORT\u001b[38;5;132;01m}\u001b[39;00m\u001b[38;5;124m/\u001b[39m\u001b[38;5;132;01m{\u001b[39;00mDB_NAME\u001b[38;5;132;01m}\u001b[39;00m\u001b[38;5;124m\"\u001b[39m)\n\u001b[1;32m      6\u001b[0m df \u001b[38;5;241m=\u001b[39m pd\u001b[38;5;241m.\u001b[39mread_sql_table(\u001b[38;5;124m\"\u001b[39m\u001b[38;5;124mt_vacances\u001b[39m\u001b[38;5;124m\"\u001b[39m, engine, parse_dates\u001b[38;5;241m=\u001b[39m[\u001b[38;5;124m\"\u001b[39m\u001b[38;5;124mdate\u001b[39m\u001b[38;5;124m\"\u001b[39m])\n\u001b[1;32m      8\u001b[0m \u001b[38;5;66;03m# 2. select the zone‑B winter break dates\u001b[39;00m\n",
      "\u001b[0;31mNameError\u001b[0m: name 'DB_USER' is not defined"
     ]
    }
   ],
   "source": [
    "import pandas as pd\n",
    "from sqlalchemy import create_engine, text\n",
    "\n",
    "# 1. connect & load the final table\n",
    "engine = create_engine(f\"postgresql://{DB_USER}:{DB_PASS}@{DB_HOST}:{DB_PORT}/{DB_NAME}\")\n",
    "df = pd.read_sql_table(\"t_vacances\", engine, parse_dates=[\"date\"])\n",
    "\n",
    "# 2. select the zone‑B winter break dates\n",
    "winter = df[(df[\"date\"] >= \"2025-02-08\") & (df[\"date\"] < \"2025-02-24\")]\n",
    "\n",
    "# 3. check that all of those are flagged 1\n",
    "# assert (winter[\"fr_zone_b\"] == 1).all(), \"Some winter days missing = 0?\"\n",
    "winter\n",
    "# 4. pick a date just before & after to confirm 0 outside the break\n",
    "# pre  = df[df[\"date\"] == pd.Timestamp(\"2025-02-07\")]\n",
    "# post = df[df[\"date\"] == pd.Timestamp(\"2025-02-24\")]\n",
    "\n",
    "# assert (pre[\"fr_zone_b\"] == 0).all(),  \"Day before break should be 0\"\n",
    "# assert (post[\"fr_zone_b\"] == 0).all(), \"Day after break should be 0\"\n",
    "\n",
    "# print(\"✅ Zone B winter break correctly mapped in t_vacances.\")\n"
   ]
  },
  {
   "cell_type": "code",
   "execution_count": 14,
   "id": "78a7ef59",
   "metadata": {},
   "outputs": [
    {
     "data": {
      "text/plain": [
       "all           60\n",
       "bel           18\n",
       "esp           11\n",
       "fr_corse      40\n",
       "fr_zone_a    127\n",
       "fr_zone_b    128\n",
       "fr_zone_c    127\n",
       "ita           13\n",
       "lux           22\n",
       "sui           11\n",
       "dtype: int64"
      ]
     },
     "execution_count": 14,
     "metadata": {},
     "output_type": "execute_result"
    }
   ],
   "source": [
    "\n",
    "\n",
    "# Ensure 'date' column is datetime type\n",
    "df['date'] = pd.to_datetime(df['date'])\n",
    "\n",
    "# Filter for year 2025\n",
    "df_2025 = df[df['date'].dt.year == 2025].copy() # Use .copy() to avoid SettingWithCopyWarning\n",
    "\n",
    "# Select the French zone columns\n",
    "zones = ['all', 'bel', 'esp', 'fr_corse', 'fr_zone_a', 'fr_zone_b',\n",
    "       'fr_zone_c', 'ita', 'lux', 'sui']\n",
    "# Ensure only existing columns are selected to avoid errors if a zone column is missing\n",
    "existing_zones = [zone for zone in zones if zone in df_2025.columns]\n",
    "df_zones_2025 = df_2025[existing_zones]\n",
    "\n",
    "# Calculate the sum for each zone (this counts the number of days marked as 1, presumably holidays)\n",
    "holiday_counts_2025 = df_zones_2025.sum()\n",
    "\n",
    "# Display the resulting Series (index: zone name, values: count of holidays in 2025)\n",
    "holiday_counts_2025"
   ]
  },
  {
   "cell_type": "markdown",
   "id": "bd4de707",
   "metadata": {},
   "source": [
    "### 5. Clean up (optional)"
   ]
  },
  {
   "cell_type": "code",
   "execution_count": 34,
   "id": "d2bdccc7",
   "metadata": {},
   "outputs": [
    {
     "name": "stdout",
     "output_type": "stream",
     "text": [
      "Staging table dropped.\n"
     ]
    }
   ],
   "source": [
    "from sqlalchemy import text\n",
    "\n",
    "# drop staging table if desired\n",
    "with engine.begin() as conn:\n",
    "    conn.execute(text('DROP TABLE IF EXISTS staging_vacances'))\n",
    "    print('Staging table dropped.')"
   ]
  }
 ],
 "metadata": {
  "kernelspec": {
   "display_name": "Python 3",
   "language": "python",
   "name": "python3"
  },
  "language_info": {
   "codemirror_mode": {
    "name": "ipython",
    "version": 3
   },
   "file_extension": ".py",
   "mimetype": "text/x-python",
   "name": "python",
   "nbconvert_exporter": "python",
   "pygments_lexer": "ipython3",
   "version": "3.10.12"
  }
 },
 "nbformat": 4,
 "nbformat_minor": 5
}
